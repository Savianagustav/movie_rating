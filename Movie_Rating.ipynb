{
  "metadata": {
    "kernelspec": {
      "language": "python",
      "display_name": "Python 3",
      "name": "python3"
    },
    "language_info": {
      "pygments_lexer": "ipython3",
      "nbconvert_exporter": "python",
      "version": "3.6.4",
      "file_extension": ".py",
      "codemirror_mode": {
        "name": "ipython",
        "version": 3
      },
      "name": "python",
      "mimetype": "text/x-python"
    },
    "colab": {
      "provenance": []
    }
  },
  "nbformat_minor": 0,
  "nbformat": 4,
  "cells": [
    {
      "source": [
        "\n",
        "import os\n",
        "import sys\n",
        "from tempfile import NamedTemporaryFile\n",
        "from urllib.request import urlopen\n",
        "from urllib.parse import unquote, urlparse\n",
        "from urllib.error import HTTPError\n",
        "from zipfile import ZipFile\n",
        "import tarfile\n",
        "import shutil\n",
        "\n",
        "CHUNK_SIZE = 40960\n",
        "DATA_SOURCE_MAPPING = 'movielens:https%3A%2F%2Fstorage.googleapis.com%2Fkaggle-data-sets%2F108335%2F258538%2Fbundle%2Farchive.zip%3FX-Goog-Algorithm%3DGOOG4-RSA-SHA256%26X-Goog-Credential%3Dgcp-kaggle-com%2540kaggle-161607.iam.gserviceaccount.com%252F20240722%252Fauto%252Fstorage%252Fgoog4_request%26X-Goog-Date%3D20240722T163611Z%26X-Goog-Expires%3D259200%26X-Goog-SignedHeaders%3Dhost%26X-Goog-Signature%3D0b47bf59fdac60eeede33607b5a95ee776d308215fcfee196c8fbd2ecc5ea6c500f79fab98d1a2568752288c701d4b6b6d54959561b195e34489e75e3110827510a4630d37d958156e12717dac9af9605ae15cdf05b77b45f22f922e4149e3fb151be186b2b0c0eaaebd14b405b22cbf1f838e373d1304d4286fad59ac31231065f2eec3f5e05be8106c883eafe814e9a507dd2a25df8d59e35e42a45947564a3670da3af38257ef649775f462b889e88f1e23e46e690a4386ce56398dcca2ba476106a9c570893e449d5e2f3fa92d2ccd4fcb1a851a6c37dbaf649fefc3489145e9674cfceec3cece9afe66b89694b7d1e1e082a0be098d7f87785a0eadd2a0'\n",
        "\n",
        "KAGGLE_INPUT_PATH='/kaggle/input'\n",
        "KAGGLE_WORKING_PATH='/kaggle/working'\n",
        "KAGGLE_SYMLINK='kaggle'\n",
        "\n",
        "!umount /kaggle/input/ 2> /dev/null\n",
        "shutil.rmtree('/kaggle/input', ignore_errors=True)\n",
        "os.makedirs(KAGGLE_INPUT_PATH, 0o777, exist_ok=True)\n",
        "os.makedirs(KAGGLE_WORKING_PATH, 0o777, exist_ok=True)\n",
        "\n",
        "try:\n",
        "  os.symlink(KAGGLE_INPUT_PATH, os.path.join(\"..\", 'input'), target_is_directory=True)\n",
        "except FileExistsError:\n",
        "  pass\n",
        "try:\n",
        "  os.symlink(KAGGLE_WORKING_PATH, os.path.join(\"..\", 'working'), target_is_directory=True)\n",
        "except FileExistsError:\n",
        "  pass\n",
        "\n",
        "for data_source_mapping in DATA_SOURCE_MAPPING.split(','):\n",
        "    directory, download_url_encoded = data_source_mapping.split(':')\n",
        "    download_url = unquote(download_url_encoded)\n",
        "    filename = urlparse(download_url).path\n",
        "    destination_path = os.path.join(KAGGLE_INPUT_PATH, directory)\n",
        "    try:\n",
        "        with urlopen(download_url) as fileres, NamedTemporaryFile() as tfile:\n",
        "            total_length = fileres.headers['content-length']\n",
        "            print(f'Downloading {directory}, {total_length} bytes compressed')\n",
        "            dl = 0\n",
        "            data = fileres.read(CHUNK_SIZE)\n",
        "            while len(data) > 0:\n",
        "                dl += len(data)\n",
        "                tfile.write(data)\n",
        "                done = int(50 * dl / int(total_length))\n",
        "                sys.stdout.write(f\"\\r[{'=' * done}{' ' * (50-done)}] {dl} bytes downloaded\")\n",
        "                sys.stdout.flush()\n",
        "                data = fileres.read(CHUNK_SIZE)\n",
        "            if filename.endswith('.zip'):\n",
        "              with ZipFile(tfile) as zfile:\n",
        "                zfile.extractall(destination_path)\n",
        "            else:\n",
        "              with tarfile.open(tfile.name) as tarfile:\n",
        "                tarfile.extractall(destination_path)\n",
        "            print(f'\\nDownloaded and uncompressed: {directory}')\n",
        "    except HTTPError as e:\n",
        "        print(f'Failed to load (likely expired) {download_url} to path {destination_path}')\n",
        "        continue\n",
        "    except OSError as e:\n",
        "        print(f'Failed to load {download_url} to path {destination_path}')\n",
        "        continue\n",
        "\n",
        "print('Data source import complete.')\n"
      ],
      "metadata": {
        "id": "UM8R928FTPzu"
      },
      "cell_type": "code",
      "outputs": [],
      "execution_count": null
    },
    {
      "cell_type": "markdown",
      "source": [
        "# **Movie Rating Prediction**\n",
        "\n",
        "### Problem Objective :\n",
        "\n",
        "-Build a model that predicts the rating of a movie based on features like genre, director, and actors.\n",
        "\n",
        "-The goal is to analyze historical movie data and develop a model that accurately estimates the rating given to a movie by users or critics."
      ],
      "metadata": {
        "id": "Mu_k66yCTPz2"
      }
    },
    {
      "cell_type": "markdown",
      "source": [
        "## Data Acquisition"
      ],
      "metadata": {
        "id": "AWSQ4g92TPz5"
      }
    },
    {
      "cell_type": "code",
      "source": [
        "import pandas as pd\n",
        "\n",
        "#Input movies dataset\n",
        "movies = pd.read_csv(r\"/kaggle/input/movielens/movies.dat\", sep='::', engine='python', encoding='latin1')\n",
        "movies.columns =['MovieID', 'Title', 'Genres']\n",
        "movies.dropna(inplace=True)\n",
        "movies.head()"
      ],
      "metadata": {
        "execution": {
          "iopub.status.busy": "2023-07-26T07:04:15.086282Z",
          "iopub.execute_input": "2023-07-26T07:04:15.086869Z",
          "iopub.status.idle": "2023-07-26T07:04:15.195329Z",
          "shell.execute_reply.started": "2023-07-26T07:04:15.086829Z",
          "shell.execute_reply": "2023-07-26T07:04:15.193894Z"
        },
        "trusted": true,
        "id": "lvR5T9L8TPz6"
      },
      "execution_count": null,
      "outputs": []
    },
    {
      "cell_type": "code",
      "source": [
        "#Input ratings dataset\n",
        "ratings = pd.read_csv(r\"/kaggle/input/movielens/ratings.dat\",sep='::', engine='python')\n",
        "ratings.columns =['UserID', 'MovieID', 'Rating', 'Timestamp']\n",
        "ratings.dropna(inplace=True)\n",
        "\n",
        "#Read the sample ratings dataset\n",
        "ratings.head()"
      ],
      "metadata": {
        "id": "6gRPESVETPz7"
      },
      "execution_count": null,
      "outputs": []
    },
    {
      "cell_type": "code",
      "source": [
        "#Input users dataset\n",
        "users = pd.read_csv(r\"/kaggle/input/movielens/users.dat\",sep='::',engine='python')\n",
        "users.columns =['UserID', 'Gender', 'Age', 'Occupation', 'Zip-code']\n",
        "users.dropna(inplace=True)\n",
        "\n",
        "#Read the sample users dataset\n",
        "users.head()"
      ],
      "metadata": {
        "id": "W8ZAlY4bTPz8"
      },
      "execution_count": null,
      "outputs": []
    },
    {
      "cell_type": "code",
      "source": [
        "#Merge the ratings and users with movieID and UserID\n",
        "ratings_user = pd.merge(ratings,users, on=['UserID'])\n",
        "ratings_movie = pd.merge(ratings,movies, on=['MovieID'])\n",
        "\n",
        "master_data = pd.merge(ratings_user,ratings_movie,\n",
        "                       on=['UserID', 'MovieID', 'Rating'])[['MovieID', 'Title', 'UserID', 'Age', 'Gender', 'Occupation', \"Rating\"]]\n",
        "\n",
        "master_data.head()"
      ],
      "metadata": {
        "id": "wfZ9ng23TPz9"
      },
      "execution_count": null,
      "outputs": []
    },
    {
      "cell_type": "markdown",
      "source": [
        "## Data Visualization"
      ],
      "metadata": {
        "id": "K1KH-c02TPz_"
      }
    },
    {
      "cell_type": "code",
      "source": [
        "import matplotlib.pyplot as plt\n",
        "master_data['Age'].value_counts().plot(kind='bar', color= ['cyan', 'blue'],alpha=0.5,figsize=(15,7))\n",
        "plt.show()"
      ],
      "metadata": {
        "id": "XzmlR3duTPz_"
      },
      "execution_count": null,
      "outputs": []
    },
    {
      "cell_type": "code",
      "source": [
        "master_data['Rating'].value_counts().plot(kind='bar', color=['green', 'yellow'],alpha=0.5,figsize=(15,7))\n",
        "plt.show()"
      ],
      "metadata": {
        "id": "TWA20TyfTP0A"
      },
      "execution_count": null,
      "outputs": []
    },
    {
      "cell_type": "code",
      "source": [
        "#User rating of the movie “Toy Story”\n",
        "\n",
        "res = master_data[master_data.Title == \"Only You (1994)\"]\n",
        "\n",
        "plt.plot(res.groupby(\"Age\")[\"MovieID\"].count(),'--bo')\n",
        "res.groupby(\"Age\")[\"MovieID\"].count()"
      ],
      "metadata": {
        "id": "CZ7ENxowTP0B"
      },
      "execution_count": null,
      "outputs": []
    },
    {
      "cell_type": "code",
      "source": [
        "#Top 25 movies by viewership rating\n",
        "\n",
        "res = master_data.groupby(\"Title\").size().sort_values(ascending=False)[:25]\n",
        "plt.ylabel(\"Title\")\n",
        "plt.xlabel(\"Viewership Count\")\n",
        "res.plot(kind=\"barh\", color = ['lightseagreen', 'turquoise', 'deepskyblue'])\n",
        "plt.show()"
      ],
      "metadata": {
        "id": "OtSU3trSTP0B"
      },
      "execution_count": null,
      "outputs": []
    },
    {
      "cell_type": "code",
      "source": [
        "#Find the ratings for all the movies reviewed by for a particular user of user id = 700\n",
        "\n",
        "res = master_data[master_data.UserID == 700]\n",
        "\n",
        "plt.scatter(y=res.Title, x=res.Rating , color = 'aqua')\n",
        "plt.show()"
      ],
      "metadata": {
        "id": "Gu3OarBvTP0C"
      },
      "execution_count": null,
      "outputs": []
    },
    {
      "cell_type": "code",
      "source": [
        "import seaborn as sns\n",
        "res = master_data.groupby(\"Rating\").size().sort_values(ascending=False)[:25]\n",
        "plt.ylabel(\"Rating\")\n",
        "plt.xlabel(\"Viewership Count\")\n",
        "res.plot(kind='bar', color= ['red', 'darkorange'])"
      ],
      "metadata": {
        "id": "CwmQcWgsTP0C"
      },
      "execution_count": null,
      "outputs": []
    },
    {
      "cell_type": "code",
      "source": [
        "import seaborn as sns\n",
        "res = master_data.groupby(\"Gender\").size().sort_values(ascending=False)[:25]\n",
        "plt.ylabel(\"Gender\")\n",
        "plt.xlabel(\"Viewership Count\")\n",
        "res.plot(kind=\"kde\")\n",
        "plt.show()"
      ],
      "metadata": {
        "id": "q1Ha-JbCTP0D"
      },
      "execution_count": null,
      "outputs": []
    },
    {
      "cell_type": "markdown",
      "source": [
        "## Machine Learning\n"
      ],
      "metadata": {
        "id": "vl7Fr8-LTP0D"
      }
    },
    {
      "cell_type": "code",
      "source": [
        "# machine learning\n",
        "from sklearn.model_selection import train_test_split\n",
        "from sklearn.linear_model import LogisticRegression\n",
        "from sklearn.svm import SVC, LinearSVC\n",
        "from sklearn.ensemble import RandomForestClassifier\n",
        "from sklearn.neighbors import KNeighborsClassifier\n",
        "from sklearn.naive_bayes import GaussianNB\n",
        "from sklearn.linear_model import Perceptron\n",
        "from sklearn.linear_model import SGDClassifier\n",
        "from sklearn.tree import DecisionTreeClassifier"
      ],
      "metadata": {
        "id": "cBiUPpxZTP0D"
      },
      "execution_count": null,
      "outputs": []
    },
    {
      "cell_type": "code",
      "source": [
        "import warnings\n",
        "warnings.filterwarnings('ignore')\n",
        "\n",
        "#First 500 extracted records\n",
        "first_500 = master_data[500:]\n",
        "first_500.dropna(inplace=True)"
      ],
      "metadata": {
        "id": "jTTdsk5OTP0E"
      },
      "execution_count": null,
      "outputs": []
    },
    {
      "cell_type": "code",
      "source": [
        "#Use the following features:movie id,age,occupation\n",
        "features = first_500[['MovieID','Age','Occupation']].values\n",
        "\n",
        "#Use rating as label\n",
        "labels = first_500[['Rating']].values"
      ],
      "metadata": {
        "id": "NuXLRN-TTP0E"
      },
      "execution_count": null,
      "outputs": []
    },
    {
      "cell_type": "code",
      "source": [
        "#Create train and test data set\n",
        "train, test, train_labels, test_labels = train_test_split(features,labels,test_size=0.33,random_state=42)"
      ],
      "metadata": {
        "id": "PweRaV2rTP0E"
      },
      "execution_count": null,
      "outputs": []
    },
    {
      "cell_type": "markdown",
      "source": [
        "## Machine Learning Models"
      ],
      "metadata": {
        "id": "tJqqQGnNTP0F"
      }
    },
    {
      "cell_type": "markdown",
      "source": [
        "### Logistic Regression"
      ],
      "metadata": {
        "id": "Pr7Uc5N0TP0F"
      }
    },
    {
      "cell_type": "code",
      "source": [
        "logreg = LogisticRegression()\n",
        "logreg.fit(train, train_labels)\n",
        "Y_pred = logreg.predict(test)\n",
        "acc_log = round(logreg.score(train, train_labels) * 100, 2)\n",
        "acc_log"
      ],
      "metadata": {
        "id": "YZLwKgEETP0F"
      },
      "execution_count": null,
      "outputs": []
    },
    {
      "cell_type": "markdown",
      "source": [
        "### K Nearest Neighbors Classifier"
      ],
      "metadata": {
        "id": "A9pLNdfZTP0F"
      }
    },
    {
      "cell_type": "code",
      "source": [
        "knn = KNeighborsClassifier(n_neighbors = 3)\n",
        "knn.fit(train, train_labels)\n",
        "Y_pred = knn.predict(test)\n",
        "acc_knn = round(knn.score(train, train_labels) * 100, 2)\n",
        "acc_knn"
      ],
      "metadata": {
        "id": "H1cZd-mwTP0F"
      },
      "execution_count": null,
      "outputs": []
    },
    {
      "cell_type": "markdown",
      "source": [
        "### Gaussian Naive Bayes"
      ],
      "metadata": {
        "id": "gH9ENcHqTP0G"
      }
    },
    {
      "cell_type": "code",
      "source": [
        "gaussian = GaussianNB()\n",
        "gaussian.fit(train, train_labels)\n",
        "Y_pred = gaussian.predict(test)\n",
        "acc_gaussian = round(gaussian.score(train, train_labels) * 100, 2)\n",
        "acc_gaussian"
      ],
      "metadata": {
        "id": "bxAm_hVdTP0G"
      },
      "execution_count": null,
      "outputs": []
    },
    {
      "cell_type": "markdown",
      "source": [
        "### Perceptron"
      ],
      "metadata": {
        "id": "dgvb0tasTP0G"
      }
    },
    {
      "cell_type": "code",
      "source": [
        "perceptron = Perceptron()\n",
        "perceptron.fit(train, train_labels)\n",
        "Y_pred = perceptron.predict(test)\n",
        "acc_perceptron = round(perceptron.score(train, train_labels) * 100, 2)\n",
        "acc_perceptron"
      ],
      "metadata": {
        "id": "Ieu32RhyTP0G"
      },
      "execution_count": null,
      "outputs": []
    },
    {
      "cell_type": "markdown",
      "source": [
        "### Decision Tree"
      ],
      "metadata": {
        "id": "oSqulkbXTP0H"
      }
    },
    {
      "cell_type": "code",
      "source": [
        "decision_tree = DecisionTreeClassifier()\n",
        "decision_tree.fit(train, train_labels)\n",
        "Y_pred = decision_tree.predict(test)\n",
        "acc_decision_tree = round(decision_tree.score(train, train_labels) * 100, 2)\n",
        "acc_decision_tree"
      ],
      "metadata": {
        "id": "QVEEYHcjTP0H",
        "outputId": "0565c28e-1549-485b-cd23-578cedf1b1e2",
        "colab": {
          "base_uri": "https://localhost:8080/",
          "height": 211
        }
      },
      "execution_count": null,
      "outputs": [
        {
          "output_type": "error",
          "ename": "NameError",
          "evalue": "name 'DecisionTreeClassifier' is not defined",
          "traceback": [
            "\u001b[0;31m---------------------------------------------------------------------------\u001b[0m",
            "\u001b[0;31mNameError\u001b[0m                                 Traceback (most recent call last)",
            "\u001b[0;32m<ipython-input-1-37292cc0361d>\u001b[0m in \u001b[0;36m<cell line: 1>\u001b[0;34m()\u001b[0m\n\u001b[0;32m----> 1\u001b[0;31m \u001b[0mdecision_tree\u001b[0m \u001b[0;34m=\u001b[0m \u001b[0mDecisionTreeClassifier\u001b[0m\u001b[0;34m(\u001b[0m\u001b[0;34m)\u001b[0m\u001b[0;34m\u001b[0m\u001b[0;34m\u001b[0m\u001b[0m\n\u001b[0m\u001b[1;32m      2\u001b[0m \u001b[0mdecision_tree\u001b[0m\u001b[0;34m.\u001b[0m\u001b[0mfit\u001b[0m\u001b[0;34m(\u001b[0m\u001b[0mtrain\u001b[0m\u001b[0;34m,\u001b[0m \u001b[0mtrain_labels\u001b[0m\u001b[0;34m)\u001b[0m\u001b[0;34m\u001b[0m\u001b[0;34m\u001b[0m\u001b[0m\n\u001b[1;32m      3\u001b[0m \u001b[0mY_pred\u001b[0m \u001b[0;34m=\u001b[0m \u001b[0mdecision_tree\u001b[0m\u001b[0;34m.\u001b[0m\u001b[0mpredict\u001b[0m\u001b[0;34m(\u001b[0m\u001b[0mtest\u001b[0m\u001b[0;34m)\u001b[0m\u001b[0;34m\u001b[0m\u001b[0;34m\u001b[0m\u001b[0m\n\u001b[1;32m      4\u001b[0m \u001b[0macc_decision_tree\u001b[0m \u001b[0;34m=\u001b[0m \u001b[0mround\u001b[0m\u001b[0;34m(\u001b[0m\u001b[0mdecision_tree\u001b[0m\u001b[0;34m.\u001b[0m\u001b[0mscore\u001b[0m\u001b[0;34m(\u001b[0m\u001b[0mtrain\u001b[0m\u001b[0;34m,\u001b[0m \u001b[0mtrain_labels\u001b[0m\u001b[0;34m)\u001b[0m \u001b[0;34m*\u001b[0m \u001b[0;36m100\u001b[0m\u001b[0;34m,\u001b[0m \u001b[0;36m2\u001b[0m\u001b[0;34m)\u001b[0m\u001b[0;34m\u001b[0m\u001b[0;34m\u001b[0m\u001b[0m\n\u001b[1;32m      5\u001b[0m \u001b[0macc_decision_tree\u001b[0m\u001b[0;34m\u001b[0m\u001b[0;34m\u001b[0m\u001b[0m\n",
            "\u001b[0;31mNameError\u001b[0m: name 'DecisionTreeClassifier' is not defined"
          ]
        }
      ]
    }
  ]
}